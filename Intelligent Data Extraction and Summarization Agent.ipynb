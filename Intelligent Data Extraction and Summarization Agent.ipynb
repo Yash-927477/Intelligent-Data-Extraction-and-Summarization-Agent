{
 "cells": [
  {
   "cell_type": "code",
   "execution_count": 3,
   "id": "6c26217c-6adb-4311-b198-8a2596276cd0",
   "metadata": {
    "tags": []
   },
   "outputs": [],
   "source": [
    "import os\n",
    "import pandas as pd\n",
    "from google.cloud import bigquery\n",
    "from google.cloud import language_v1\n",
    "from google.cloud import aiplatform\n",
    "\n",
    "PROJECT_ID = \"tranquil-matter-470021-u2\"  # @param {type:\"string\"}\n",
    "REGION = \"US\"     "
   ]
  },
  {
   "cell_type": "code",
   "execution_count": 8,
   "id": "38b3b265-8b95-4a75-8c04-5b8366e490be",
   "metadata": {
    "tags": []
   },
   "outputs": [
    {
     "name": "stdout",
     "output_type": "stream",
     "text": [
      "Data loaded successfully from BigQuery.\n",
      "\n",
      "Data preprocessing complete.\n"
     ]
    }
   ],
   "source": [
    "bigquery_client = bigquery.Client(project=PROJECT_ID, location=REGION)\n",
    "try:\n",
    "    query = \"\"\"\n",
    "        SELECT company_public_response,\n",
    "        consumer_complaint_narrative,\n",
    "        product,\n",
    "        company_name,\n",
    "        date_received,\n",
    "        company_response_to_consumer\n",
    "        FROM `bigquery-public-data.cfpb_complaints.complaint_database`\n",
    "        WHERE consumer_complaint_narrative IS NOT NULL\n",
    "        LIMIT 1000\n",
    "    \"\"\"\n",
    "    \n",
    "   \n",
    "    df = bigquery_client.query(query).to_dataframe()\n",
    "    print(\"Data loaded successfully from BigQuery.\")\n",
    "    \n",
    "except Exception as e:\n",
    "    print(f\"Error loading data from BigQuery: {e}\")\n",
    "\n",
    "\n",
    "if 'df' in locals() and not df.empty:\n",
    "    df['consumer_complaint_narrative'] = df['consumer_complaint_narrative'].str.strip()\n",
    "    df['consumer_complaint_narrative'] = df['consumer_complaint_narrative'].str.lower()\n",
    "    print(\"\\nData preprocessing complete.\")\n",
    "    #print(df.head())\n",
    "else:\n",
    "    print(\"No data available for preprocessing.\")"
   ]
  },
  {
   "cell_type": "code",
   "execution_count": 14,
   "id": "fa3db539-6a64-4dd0-8130-313080235986",
   "metadata": {
    "tags": []
   },
   "outputs": [
    {
     "name": "stdout",
     "output_type": "stream",
     "text": [
      "Analyzed row 521 successfully.\n",
      "Analyzed row 737 successfully.\n",
      "Analyzed row 740 successfully.\n",
      "Analyzed row 660 successfully.\n",
      "Analyzed row 411 successfully.\n",
      "Analyzed row 678 successfully.\n",
      "Analyzed row 626 successfully.\n",
      "Analyzed row 513 successfully.\n",
      "Analyzed row 859 successfully.\n",
      "Analyzed row 136 successfully.\n",
      "\n",
      "Sample analysis results:\n",
      "                          consumer_complaint_narrative sentiment_score  \\\n",
      "521  on my bank account i have {$940.00} from a res...            -0.7   \n",
      "737  i filed a identity theft claim with this compa...            -0.5   \n",
      "740  i applied for 3 private loans while xxxx xxxx ...             0.1   \n",
      "660  i have worked at a non-profit organization sin...            -0.3   \n",
      "411  i am trying to refinance with another bank ......            -0.7   \n",
      "678  do you not actually read the complaints agains...            -0.7   \n",
      "626  someone used my info to enroll in school and i...            -0.2   \n",
      "513  xxxx xxxx, a division of comerica bank, has al...            -0.5   \n",
      "859  u.s. department of education xxxx xxxx  xxxx x...            -0.2   \n",
      "136  enhanced recovery company try to collect a deb...            -0.8   \n",
      "\n",
      "                                              entities  \n",
      "521  [resource, bank account, sir-mam, nothing, $94...  \n",
      "737  [identity theft claim, xxxx xxxx xxxx xxxx, co...  \n",
      "740  [loans, loans, university, xxxx xxxx xxxx, aes...  \n",
      "660  [organization, plan, payments, payments, xxxx,...  \n",
      "411  [financing, bank, pay, copy front, back, keyba...  \n",
      "678  [account, complaints, company, complaint, comp...  \n",
      "626             [info, someone, school, credit report]  \n",
      "513  [customer care rep., division, account, comeri...  \n",
      "859  [student loans, loans, letter, clarification, ...  \n",
      "136  [recovery company, debt, letters, account, inf...  \n"
     ]
    }
   ],
   "source": [
    "from google.cloud import language_v1\n",
    "language_client = language_v1.LanguageServiceClient()\n",
    "def analyze_text(text):\n",
    "    \"\"\"Sends text to the Natural Language API for analysis.\"\"\"\n",
    "    document = language_v1.Document(\n",
    "        content=text,\n",
    "        type_=language_v1.Document.Type.PLAIN_TEXT\n",
    "    )\n",
    "    \n",
    "    # Analyze sentiment\n",
    "    sentiment_response = language_client.analyze_sentiment(\n",
    "        request={'document': document}\n",
    "    )\n",
    "    sentiment_score = sentiment_response.document_sentiment.score\n",
    "    \n",
    "    # Analyze entities\n",
    "    entity_response = language_client.analyze_entities(\n",
    "        request={'document': document}\n",
    "    )\n",
    "    entities = [\n",
    "        {'name': entity.name, 'type': entity.type_.name} \n",
    "        for entity in entity_response.entities\n",
    "    ]\n",
    "    \n",
    "    return sentiment_score, entities\n",
    "     \n",
    "sample_df = df.sample(n=10, random_state=42).copy()\n",
    "sample_df['sentiment_score'] = None\n",
    "sample_df['entities'] = None\n",
    "\n",
    "for index, row in sample_df.iterrows():\n",
    "    try:\n",
    "        score, entities = analyze_text(row['consumer_complaint_narrative'])\n",
    "        sample_df.at[index, 'sentiment_score'] = score\n",
    "        sample_df.at[index, 'entities'] = [ent['name'] for ent in entities]\n",
    "        print(f\"Analyzed row {index} successfully.\")\n",
    "    except Exception as e:\n",
    "        print(f\"Error analyzing row {index}: {repr(e)}\")\n",
    "\n",
    "print(\"\\nSample analysis results:\")\n",
    "print(sample_df[['consumer_complaint_narrative', 'sentiment_score', 'entities']])"
   ]
  },
  {
   "cell_type": "code",
   "execution_count": 19,
   "id": "162a8ad3-fba6-471c-91ee-3673878f257a",
   "metadata": {
    "tags": []
   },
   "outputs": [],
   "source": [
    "import vertexai\n",
    "from vertexai.generative_models import GenerativeModel, Part\n",
    "vertexai.init(project=PROJECT_ID, location=\"us-central1\")"
   ]
  },
  {
   "cell_type": "code",
   "execution_count": 23,
   "id": "c537d9e3-68a2-4275-8a43-16e959d10a5a",
   "metadata": {
    "tags": []
   },
   "outputs": [
    {
     "name": "stdout",
     "output_type": "stream",
     "text": [
      "on my bank account i have {$940.00} from a resource that i absolutely know nothing about sir-mam ; why i filed a identity theft claim with this company american education services when i found out that someone had forged my signature on a student loan. they replied that the owner of the loan was xxxx xxxx xxxx and that they had denied my claim. when i sent all the necessary paperwork to xxxx xxxx xxxx xxxx they in turn replied that they do not make the decision on the identity theft claim. that the creditor xxxx xxxx xxxx are the ones who denied the claim. when i sent the information back to aes they in turn say its xxxx xxxx xxxx xxxx. attached are all documents sent to both parties and their replies indicating that obviously no one wants to take the blame. the identity thft account has been sent to numerous collection agencies ( xxxx ) and when i speak with the agencies they all say that the original creditor is xxxx xxxx xxxx xxxx no one is clearing my name from this account and i need resolution to this and quick! this ping pong has been going on since xx/xx/xxxx. i already put in other complaints against these companies with other government agencies like the attorney xxxx xxxx and ftc. \n",
      "some how in writing to the companies and supplying all documentations isnt enough. \n",
      "on xxxx xxxx i had agreed to sign for a student loan for a friends daughter, with xxxx xxxx xxxx. once there, they had spelled my name wrong and told me that they will send me corrected forms and that i will have to send them back with my initials. needless to say i received the paperwork from xxxx xxxx on the xx/xx/xxxx. once received i called xxxx xxxx xxxx at the number on the bottom of the letter and ask the representative how do i stop this process as i then realized that i did not want to proceed with the signing. the representative stated that the letter they sent me was self explanatory. if i did not return the forms signed and initials were indicated within the 30 days no further consideration will be given to the application. ( letter attached ) so i did not return anything to them. i still have the original forms they sent me in xx/xx/xxxx if you notice on the attached copies of the letters i have the lender copy, borrowers copy and the cosigners copy still in my possesion. i also have the lender copy that american education services sent me when i requested information on this identity theft. the xxxx copy has a date of xxxx/xxxx/xxxx with a forged signature. but for their conveience they seem to be only circulating to the the xxxx application i did on xxxx/xxxx/xxxx to the collections agencies and other parties involved so that they can try and collect on this so called debt .no one seems to be able to find the forged signature application but yet they, american education services were the people who sent it to me in the first place when i requested applications and other information used on this identity theft account. it was only xx/xx/xxxx that i realized that this loan was out there. i am not one to constantly pull my credit report for no reason but when i was refinancing my house, the broker told me that i had to explain the amount on this loan. thats when i realized and immediately but in the identity theft report with the ftc and file a police report and commenced with obtaining information used in the theft account with american education services. thats when aes immediately turned around and sent the account to a collection agencies. i told the collection agency everything they in turn sent it back to aes and then they turned around again and sent it to xxxx then to xxxx xxxx, now its with xxxx xxxx xxxx. they are a scam company and from what i am reading on the database for the attorney general in pennsylvania there are alot of people complaining about these companies. i applied for 3 private loans while xxxx xxxx at the university xxxx xxxx xxxx. my loans have been serviced through aes : american education services. i set up a payment plan and automatic debit for these loans when my first payment was due. i was in school half-time from xxxx, and the school apparently submitted this information to the clearing house and aes deferred my payment, and lowered my payment to a point where it was n't even covering the interest rate. they said they sent me a letter about this, but i do not recall this, nor did i give my permission to do this in the first place, as i thought private loans were n't able to be differed. i was working full time and going to school part time and would have been able to make the student loan payment just fine. now i 'm looking more closely at my loans and discovered the principal balance on xxxx loan is xxxx more than my original balance. on the xxxx loan is xxxx more than my original balance. i feel that i 've been paying and never had a late payment on these loans, and they have increased my balance when i did n't understand or did n't even know about this deferment.\n",
      "\n",
      "--- Generated Summary ---\n",
      "Based on the provided text, here is a summary of the consumer complaints, along with the core issues and common themes.\n",
      "\n",
      "### **Summary**\n",
      "\n",
      "Consumers are lodging serious complaints against the student loan servicer American Education Services (AES) and associated creditors. The complaints detail instances of identity theft, forged loan documents, and loan mismanagement. Consumers report being trapped in a bureaucratic loop where AES and the creditors refuse to take responsibility, passing blame back and forth. Despite consumers providing extensive documentation, including police reports and evidence of forgery, their claims are denied, and the fraudulent or mismanaged accounts are sent to collection agencies, severely damaging their credit and financial well-being.\n",
      "\n",
      "---\n",
      "\n",
      "### **Core Issues**\n",
      "\n",
      "1.  **Identity Theft and Forgery:** Two consumers report that student loans were taken out or processed in their names using forged signatures. In one case, the consumer was completely unaware of the loan's existence; in the other, the consumer had explicitly withdrawn from a co-signer application but the loan was processed anyway.\n",
      "\n",
      "2.  **Lack of Accountability and Bureaucratic Runaround:** A primary issue is the refusal of any party (AES, the creditor, or subsequent debt owners) to take ownership of investigating and resolving fraud claims. Consumers describe a \"ping pong\" game where each entity directs them back to the other, resulting in no resolution.\n",
      "\n",
      "3.  **Unauthorized Account Changes and Mismanagement:** One consumer, who was actively making payments, had their loan put into deferment by AES without their knowledge or consent. This change caused payments to fall below the accruing interest, leading to the principal loan balance increasing (negative amortization) despite consistent payments.\n",
      "\n",
      "4.  **Failure to Stop Collections on Disputed Debt:** Even after being presented with evidence of fraud and identity theft, AES and the creditors continue to send the disputed accounts to various collection agencies, leading to harassment and negative credit reporting for the victims.\n",
      "\n",
      "---\n",
      "\n",
      "### **Common Themes**\n",
      "\n",
      "*   **Central Role of American Education Services (AES):** AES is the loan servicer at the center of all three complaints, acting as the primary point of contact and the entity accused of either mismanagement or failing to act on fraud claims.\n",
      "\n",
      "*   **Consumer Helplessness and Frustration:** All complainants express immense frustration with a system that seems designed to ignore them. They have followed the proper channels—filing FTC/police reports, sending documentation, and contacting the companies directly—but are met with denial and inaction.\n",
      "\n",
      "*   **Poor and Misleading Communication:** Consumers feel that information was either withheld or that they were actively misled. This is evident in the consumer who was told not returning a form would cancel the application and the consumer who was not clearly informed about a deferment that would increase their debt.\n",
      "\n",
      "*   **Significant Negative Financial Impact:** The companies' actions (or inactions) have direct and severe consequences for the consumers, including damaged credit scores, inability to refinance homes, growing debt balances, and harassment from collection agencies.\n"
     ]
    }
   ],
   "source": [
    "model = GenerativeModel(\"gemini-2.5-pro\")\n",
    "\n",
    "num_complaints_to_summarize = 3\n",
    "complaints_to_summarize = \" \".join(sample_df['consumer_complaint_narrative'].iloc[:num_complaints_to_summarize])\n",
    "print(complaints_to_summarize)\n",
    "prompt = f\"\"\"\n",
    "Summarize the following consumer complaints. Identify the core issues and common themes.\n",
    "\n",
    "Complaints:\n",
    "{complaints_to_summarize}\n",
    "\n",
    "Summary:\n",
    "\"\"\"\n",
    "\n",
    "# Generate summary\n",
    "try:\n",
    "    response = model.generate_content(prompt)\n",
    "\n",
    "    \n",
    "    if hasattr(response, \"text\"):\n",
    "        summary = response.text\n",
    "    else:\n",
    "        summary = response.candidates[0].content.parts[0].text\n",
    "\n",
    "    print(\"\\n--- Generated Summary ---\")\n",
    "    print(summary)\n",
    "\n",
    "except Exception as e:\n",
    "    print(f\"Error generating summary with Gemini: {e}\")"
   ]
  },
  {
   "cell_type": "code",
   "execution_count": null,
   "id": "a95dea85-e648-432e-af25-ffa19351d502",
   "metadata": {},
   "outputs": [],
   "source": []
  }
 ],
 "metadata": {
  "environment": {
   "kernel": "conda-base-py",
   "name": "workbench-notebooks.m131",
   "type": "gcloud",
   "uri": "us-docker.pkg.dev/deeplearning-platform-release/gcr.io/workbench-notebooks:m131"
  },
  "kernelspec": {
   "display_name": "Python 3 (ipykernel)",
   "language": "python",
   "name": "conda-base-py"
  },
  "language_info": {
   "codemirror_mode": {
    "name": "ipython",
    "version": 3
   },
   "file_extension": ".py",
   "mimetype": "text/x-python",
   "name": "python",
   "nbconvert_exporter": "python",
   "pygments_lexer": "ipython3",
   "version": "3.10.18"
  }
 },
 "nbformat": 4,
 "nbformat_minor": 5
}
